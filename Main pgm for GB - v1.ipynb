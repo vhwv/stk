{
 "cells": [
  {
   "cell_type": "code",
   "execution_count": null,
   "metadata": {
    "collapsed": true,
    "scrolled": true
   },
   "outputs": [],
   "source": [
    "### import packages\n",
    "import pandas as pd\n",
    "import numpy as np\n",
    "import matplotlib.pyplot as plt\n",
    "from IPython.display import clear_output\n",
    "from datetime import datetime\n",
    "from sas7bdat import SAS7BDAT\n",
    "###from Random_Forest_Package_v1 import RFM_Shawn as RFM_CLF\n",
    "from lib.Gradient_Boosting_Package_wyatt import GBM_Shawn as GBM_CLF\n",
    "import pytz\n",
    "import sas7bdat\n",
    "import os,shutil,xlsxwriter\n",
    "\n",
    "#pd.set_option('display.height', 1000)\n",
    "#pd.set_option('display.width', 1000)\n",
    "pd.set_option('display.max_rows', 100)\n",
    "pd.set_option('display.max_columns', 500)\n",
    "### data preparation"
   ]
  },
  {
   "cell_type": "code",
   "execution_count": null,
   "metadata": {},
   "outputs": [],
   "source": [
    "### data preparation\n",
    "print('Data load strs at '+ datetime.now(pytz.timezone('Asia/Hong_Kong')).strftime('%y-%m-%d %H:%M:%S %z'))\n",
    "\n",
    "csv_train='/Users/wyatt/Documents/Docs-wMBP15/SAS/stk_model/model.Wyatt_stock_train.csv'\n",
    "#csv_train='/Users/wyatt/Documents/Docs-wMBP15/SAS/stk_model/model.Wyatt_stock_valid.csv'\n",
    "csv_valid='/Users/wyatt/Documents/Docs-wMBP15/SAS/stk_model/model.Wyatt_stock_valid.csv'\n",
    "\n",
    "fn_idc=csv_train.split('/')[-1].split('.')[-2]\n",
    "input_train=pd.DataFrame(pd.read_csv(csv_train)).fillna(0)[:3000]\n",
    "input_valid=pd.DataFrame(pd.read_csv(csv_valid)).fillna(0)[:1000]\n",
    "#input_train=input_train.fillna(0)\n",
    "#input_valid=input_valid.fillna(0)\n",
    "print('Data load ends at '+ datetime.now(pytz.timezone('Asia/Hong_Kong')).strftime('%y-%m-%d %H:%M:%S %z'))\n",
    "print('Data as of '+ datetime.now(pytz.timezone('Asia/Hong_Kong')).strftime('%y-%m-%d %H:%M:%S %z'))\n",
    "print(\"#------------------- Separate Line 1 -------------------# \")\n",
    "print(\"Train Data : \")\n",
    "#input_train.info()\n",
    "print(\"#------------------- Separate Line 2 -------------------# \")\n",
    "print(\"Valid Data : \")\n",
    "#input_valid.info()\n",
    "print(\"#------------------- Separate Line 3 -------------------# \")"
   ]
  },
  {
   "cell_type": "code",
   "execution_count": null,
   "metadata": {
    "scrolled": false
   },
   "outputs": [],
   "source": [
    "print('Model train strs at '+ datetime.now(pytz.timezone('Asia/Hong_Kong')).strftime('%y-%m-%d %H:%M:%S %z'))\n",
    "\n",
    "gb_clf=GBM_CLF(mode='superfast', df_train=input_train, df_valid=input_valid, str_resp='response',str_id='cust_id')\n",
    "gb_clf._training()\n",
    "\n",
    "print('Model train ends at '+ datetime.now(pytz.timezone('Asia/Hong_Kong')).strftime('%y-%m-%d %H:%M:%S %z'))"
   ]
  },
  {
   "cell_type": "code",
   "execution_count": null,
   "metadata": {},
   "outputs": [],
   "source": [
    "print(gb_clf.best_param)\n",
    "print(gb_clf.best_model_kpi)\n",
    "print(gb_clf.best_driver.head(51))\n",
    "gb_clf._modeltest(input_train)\n",
    "\n",
    "#shutil.copy('lift_chart.png',\"lift_chart_\"+oversample+str(len(input_train)) + gb_clf.mode + \".png\")\n",
    "#shutil.copy('lorenz_curve.png',\"lorenz_curve_\"+oversample+str(len(input_train)) + gb_clf.mode + \".png\")\n",
    "#wb = xlsxwriter.Workbook(\"Result_\"+ fn_idc+\"_\"+str(len(input_train))+\"_\" + gb_clf.mode+\"_graph.xlsx\")\n",
    "wb = xlsxwriter.Workbook(\"Train_Graph_\"+str(len(input_train))+\"_\" + datetime.now().strftime(\"%H%M%S\") +\".xlsx\")\n",
    "#wb = xlsxwriter.Workbook(\"test.xlsx\")\n",
    "sht = wb.add_worksheet('Chart')\n",
    "sht.insert_image('D4','lift_chart.png')\n",
    "sht.insert_image('D24','lorenz_curve.png')\n",
    "#sht2 = wb.add_worksheet('lorenz_curve')\n",
    "wb.close()"
   ]
  },
  {
   "cell_type": "code",
   "execution_count": null,
   "metadata": {
    "collapsed": true
   },
   "outputs": [],
   "source": [
    "fw = pd.ExcelWriter(\"Train_Parm_\"+ str(len(input_train))+\"_\" + datetime.now().strftime(\"%H%M%S\") +\".xlsx\")\n",
    "#fw = pd.ExcelWriter(\"Result_\"+ fn_idc+\"_\"+str(len(input_train))+\"_\" + gb_clf.mode+\"_param.xlsx\")\n",
    "#fw = pd.ExcelWriter(\"test.xlsx\")\n",
    "gb_clf.best_param.to_excel(fw,\"best_parm\")\n",
    "gb_clf.best_model_kpi.to_excel(fw,'kpi')\n",
    "gb_clf.best_driver.to_excel(fw,'best_driver')\n",
    "gb_clf.lift_table.to_excel(fw,'lift_table')"
   ]
  },
  {
   "cell_type": "code",
   "execution_count": null,
   "metadata": {},
   "outputs": [],
   "source": [
    "gb_clf._modeltest(input_valid)"
   ]
  },
  {
   "cell_type": "code",
   "execution_count": null,
   "metadata": {},
   "outputs": [],
   "source": [
    "gb_clf.best_model"
   ]
  },
  {
   "cell_type": "code",
   "execution_count": null,
   "metadata": {},
   "outputs": [],
   "source": [
    "csv_predict='/Users/wyatt/Documents/Docs-wMBP15/SAS/stk_model/predict_base_20170727.csv'\n",
    "input_predict = pd.DataFrame(pd.read_csv(csv_predict)).fillna(0)\n",
    "input_predict['month']=20170727\n",
    "input_predict.head()"
   ]
  },
  {
   "cell_type": "code",
   "execution_count": null,
   "metadata": {
    "scrolled": true
   },
   "outputs": [],
   "source": [
    "input_predict.info()\n",
    "x_valid_predict=input_predict.drop(['cust_id'], axis=1).values"
   ]
  },
  {
   "cell_type": "code",
   "execution_count": null,
   "metadata": {
    "collapsed": true
   },
   "outputs": [],
   "source": [
    "p_predict_scored = pd.DataFrame(gb_clf.best_model.predict_proba(x_valid_predict))"
   ]
  },
  {
   "cell_type": "code",
   "execution_count": null,
   "metadata": {
    "collapsed": true
   },
   "outputs": [],
   "source": [
    "tmp=pd.concat([input_predict,p_predict_scored],axis=1)"
   ]
  },
  {
   "cell_type": "code",
   "execution_count": null,
   "metadata": {
    "collapsed": true
   },
   "outputs": [],
   "source": [
    "tmp.rename(columns={1:'score'},inplace=True)"
   ]
  },
  {
   "cell_type": "code",
   "execution_count": null,
   "metadata": {
    "collapsed": true
   },
   "outputs": [],
   "source": [
    "tmp=tmp.sort_values(by='score',ascending=False)"
   ]
  },
  {
   "cell_type": "code",
   "execution_count": null,
   "metadata": {},
   "outputs": [],
   "source": [
    "tmp.head()"
   ]
  },
  {
   "cell_type": "code",
   "execution_count": null,
   "metadata": {
    "scrolled": true
   },
   "outputs": [],
   "source": [
    "tmp[['month','cust_id','score']].head(10)"
   ]
  },
  {
   "cell_type": "code",
   "execution_count": null,
   "metadata": {},
   "outputs": [],
   "source": [
    "### data preparation\n",
    "print('Data load strs at '+ datetime.now(pytz.timezone('Asia/Hong_Kong')).strftime('%y-%m-%d %H:%M:%S %z'))\n",
    "\n",
    "csv_valid_ot1='/Users/wyatt/Documents/Docs-wMBP15/SAS/stk_model/model.Wyatt_stock_full_train.csv'\n",
    "csv_valid_ot2='/Users/wyatt/Documents/Docs-wMBP15/SAS/stk_model/model.Wyatt_stock_full_valid.csv'\n",
    "\n",
    "input_valid_ot1=pd.DataFrame(pd.read_csv(csv_valid_ot1))\n",
    "input_valid_ot2=pd.DataFrame(pd.read_csv(csv_valid_ot2))\n",
    "input_valid_ot1=input_valid_ot1.fillna(0)\n",
    "input_valid_ot2=input_valid_ot2.fillna(0)\n",
    "print('Data load ends at '+ datetime.now(pytz.timezone('Asia/Hong_Kong')).strftime('%y-%m-%d %H:%M:%S %z'))\n",
    "print('Data as of '+ datetime.now(pytz.timezone('Asia/Hong_Kong')).strftime('%y-%m-%d %H:%M:%S %z'))\n",
    "print(\"#------------------- Separate Line 3 -------------------# \")\n",
    "print(\"Valid Out-time Data:\")\n",
    "input_valid_ot1.info()\n",
    "print(\"#------------------- Separate Line 4 -------------------# \")\n",
    "print(\"Valid Out-time Data:\")\n",
    "input_valid_ot2.info()\n",
    "print(\"#------------------- Separate Line 4 -------------------# \")"
   ]
  },
  {
   "cell_type": "code",
   "execution_count": null,
   "metadata": {},
   "outputs": [],
   "source": [
    "gb_clf._modeltest(input_valid_ot1)"
   ]
  },
  {
   "cell_type": "code",
   "execution_count": null,
   "metadata": {},
   "outputs": [],
   "source": [
    "gb_clf._modeltest(input_valid_ot2)"
   ]
  }
 ],
 "metadata": {
  "kernelspec": {
   "display_name": "Python 3",
   "language": "python",
   "name": "python3"
  },
  "language_info": {
   "codemirror_mode": {
    "name": "ipython",
    "version": 3
   },
   "file_extension": ".py",
   "mimetype": "text/x-python",
   "name": "python",
   "nbconvert_exporter": "python",
   "pygments_lexer": "ipython3",
   "version": "3.7.0"
  }
 },
 "nbformat": 4,
 "nbformat_minor": 2
}
