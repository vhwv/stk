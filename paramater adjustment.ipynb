{
 "cells": [
  {
   "cell_type": "code",
   "metadata": {
    "ExecuteTime": {
     "end_time": "2024-11-06T17:41:37.212707Z",
     "start_time": "2024-11-06T17:41:31.428834Z"
    }
   },
   "source": [
    "import pandas as pd\n",
    "import numpy as np\n",
    "from sklearn.ensemble import GradientBoostingClassifier\n",
    "from sklearn import cross_validation, metrics    \n",
    "from sklearn.grid_search import GridSearchCV\n",
    "\n",
    "import matplotlib.pylab as plt\n",
    "%matplotlib inline"
   ],
   "outputs": [
    {
     "ename": "ImportError",
     "evalue": "cannot import name 'cross_validation' from 'sklearn' (C:\\Users\\vwei\\PycharmProjects\\pythonProject\\.venv\\Lib\\site-packages\\sklearn\\__init__.py)",
     "output_type": "error",
     "traceback": [
      "\u001B[1;31m---------------------------------------------------------------------------\u001B[0m",
      "\u001B[1;31mImportError\u001B[0m                               Traceback (most recent call last)",
      "Cell \u001B[1;32mIn[1], line 4\u001B[0m\n\u001B[0;32m      2\u001B[0m \u001B[38;5;28;01mimport\u001B[39;00m \u001B[38;5;21;01mnumpy\u001B[39;00m \u001B[38;5;28;01mas\u001B[39;00m \u001B[38;5;21;01mnp\u001B[39;00m\n\u001B[0;32m      3\u001B[0m \u001B[38;5;28;01mfrom\u001B[39;00m \u001B[38;5;21;01msklearn\u001B[39;00m\u001B[38;5;21;01m.\u001B[39;00m\u001B[38;5;21;01mensemble\u001B[39;00m \u001B[38;5;28;01mimport\u001B[39;00m GradientBoostingClassifier\n\u001B[1;32m----> 4\u001B[0m \u001B[38;5;28;01mfrom\u001B[39;00m \u001B[38;5;21;01msklearn\u001B[39;00m \u001B[38;5;28;01mimport\u001B[39;00m cross_validation, metrics    \n\u001B[0;32m      5\u001B[0m \u001B[38;5;28;01mfrom\u001B[39;00m \u001B[38;5;21;01msklearn\u001B[39;00m\u001B[38;5;21;01m.\u001B[39;00m\u001B[38;5;21;01mgrid_search\u001B[39;00m \u001B[38;5;28;01mimport\u001B[39;00m GridSearchCV\n\u001B[0;32m      7\u001B[0m \u001B[38;5;28;01mimport\u001B[39;00m \u001B[38;5;21;01mmatplotlib\u001B[39;00m\u001B[38;5;21;01m.\u001B[39;00m\u001B[38;5;21;01mpylab\u001B[39;00m \u001B[38;5;28;01mas\u001B[39;00m \u001B[38;5;21;01mplt\u001B[39;00m\n",
      "\u001B[1;31mImportError\u001B[0m: cannot import name 'cross_validation' from 'sklearn' (C:\\Users\\vwei\\PycharmProjects\\pythonProject\\.venv\\Lib\\site-packages\\sklearn\\__init__.py)"
     ]
    }
   ],
   "execution_count": 1
  },
  {
   "cell_type": "code",
   "metadata": {
    "ExecuteTime": {
     "end_time": "2024-11-06T17:41:37.214353Z",
     "start_time": "2024-11-06T17:41:37.214353Z"
    }
   },
   "source": [
    "trainf='/Users/wyatt/Documents/Docs-wMBP15/SAS/stk_model/model.Wyatt_stock_train.csv'\n",
    "#valid='/Users/wyatt/Documents/Docs-wMBP15/SAS/stk_model/model.Wyatt_stock_valid.csv'\n",
    "train=pd.read_csv(traicustomerByAgeQuery.setCacheable(true);nf).fillna(0)\n",
    "target='response' # Disbursed的值就是二元分类的输出\n",
    "IDcol = 'cust_id'\n",
    "train['response'].value_counts() "
   ],
   "outputs": [],
   "execution_count": null
  },
  {
   "cell_type": "code",
   "execution_count": 44,
   "metadata": {
    "collapsed": true
   },
   "outputs": [],
   "source": [
    "x_columns = [x for x in train.columns if x not in [target, IDcol]]\n",
    "X = train[x_columns]\n",
    "y = train[target]"
   ]
  },
  {
   "cell_type": "code",
   "execution_count": 45,
   "metadata": {},
   "outputs": [
    {
     "name": "stdout",
     "output_type": "stream",
     "text": [
      "Accuracy : 0.961\n",
      "AUC Score (Train): 0.911319\n"
     ]
    }
   ],
   "source": [
    "gbm0 = GradientBoostingClassifier(random_state=10)\n",
    "gbm0.fit(X,y)\n",
    "y_pred = gbm0.predict(X)\n",
    "y_predprob = gbm0.predict_proba(X)[:,1]\n",
    "print(\"Accuracy : %.4g\" % metrics.accuracy_score(y.values, y_pred))\n",
    "print(\"AUC Score (Train): %f\" % metrics.roc_auc_score(y, y_predprob))"
   ]
  },
  {
   "cell_type": "code",
   "execution_count": 46,
   "metadata": {},
   "outputs": [
    {
     "data": {
      "text/plain": [
       "([mean: 0.78366, std: 0.01986, params: {'n_estimators': 80},\n",
       "  mean: 0.78339, std: 0.01950, params: {'n_estimators': 90},\n",
       "  mean: 0.78440, std: 0.01985, params: {'n_estimators': 100},\n",
       "  mean: 0.78486, std: 0.01981, params: {'n_estimators': 110},\n",
       "  mean: 0.78523, std: 0.01970, params: {'n_estimators': 120}],\n",
       " {'n_estimators': 120},\n",
       " 0.7852250362250219)"
      ]
     },
     "execution_count": 46,
     "metadata": {},
     "output_type": "execute_result"
    }
   ],
   "source": [
    "param_test1 = {'n_estimators':list(range(80,121,10))}\n",
    "gsearch1 = GridSearchCV(estimator = GradientBoostingClassifier(learning_rate=0.01, min_samples_split=300,\n",
    "                                  min_samples_leaf=20,max_depth=8,max_features='sqrt', subsample=0.8,random_state=10), \n",
    "                       param_grid = param_test1, scoring='roc_auc',iid=False,cv=5)\n",
    "gsearch1.fit(X,y)\n",
    "gsearch1.grid_scores_, gsearch1.best_params_, gsearch1.best_score_"
   ]
  },
  {
   "cell_type": "code",
   "execution_count": 55,
   "metadata": {
    "collapsed": true
   },
   "outputs": [],
   "source": [
    "n_estimators = gsearch1.best_params_['n_estimators']"
   ]
  },
  {
   "cell_type": "code",
   "execution_count": 56,
   "metadata": {},
   "outputs": [
    {
     "data": {
      "text/plain": [
       "([mean: 0.78795, std: 0.01818, params: {'max_depth': 3, 'min_samples_split': 50},\n",
       "  mean: 0.78542, std: 0.02113, params: {'max_depth': 3, 'min_samples_split': 70},\n",
       "  mean: 0.78710, std: 0.02115, params: {'max_depth': 3, 'min_samples_split': 90},\n",
       "  mean: 0.78629, std: 0.02010, params: {'max_depth': 3, 'min_samples_split': 110},\n",
       "  mean: 0.78539, std: 0.02049, params: {'max_depth': 3, 'min_samples_split': 130},\n",
       "  mean: 0.78478, std: 0.02141, params: {'max_depth': 3, 'min_samples_split': 150},\n",
       "  mean: 0.78501, std: 0.02189, params: {'max_depth': 3, 'min_samples_split': 170},\n",
       "  mean: 0.78851, std: 0.02030, params: {'max_depth': 3, 'min_samples_split': 190},\n",
       "  mean: 0.78514, std: 0.02421, params: {'max_depth': 5, 'min_samples_split': 50},\n",
       "  mean: 0.78505, std: 0.02029, params: {'max_depth': 5, 'min_samples_split': 70},\n",
       "  mean: 0.78571, std: 0.02320, params: {'max_depth': 5, 'min_samples_split': 90},\n",
       "  mean: 0.78307, std: 0.02462, params: {'max_depth': 5, 'min_samples_split': 110},\n",
       "  mean: 0.78771, std: 0.02129, params: {'max_depth': 5, 'min_samples_split': 130},\n",
       "  mean: 0.78575, std: 0.02165, params: {'max_depth': 5, 'min_samples_split': 150},\n",
       "  mean: 0.78440, std: 0.02776, params: {'max_depth': 5, 'min_samples_split': 170},\n",
       "  mean: 0.78827, std: 0.01833, params: {'max_depth': 5, 'min_samples_split': 190},\n",
       "  mean: 0.78169, std: 0.02068, params: {'max_depth': 7, 'min_samples_split': 50},\n",
       "  mean: 0.78931, std: 0.02578, params: {'max_depth': 7, 'min_samples_split': 70},\n",
       "  mean: 0.78668, std: 0.01770, params: {'max_depth': 7, 'min_samples_split': 90},\n",
       "  mean: 0.78167, std: 0.02488, params: {'max_depth': 7, 'min_samples_split': 110},\n",
       "  mean: 0.77371, std: 0.02466, params: {'max_depth': 7, 'min_samples_split': 130},\n",
       "  mean: 0.78910, std: 0.02652, params: {'max_depth': 7, 'min_samples_split': 150},\n",
       "  mean: 0.78172, std: 0.02198, params: {'max_depth': 7, 'min_samples_split': 170},\n",
       "  mean: 0.78778, std: 0.02501, params: {'max_depth': 7, 'min_samples_split': 190}],\n",
       " {'max_depth': 7, 'min_samples_split': 70},\n",
       " 0.7893094642244889)"
      ]
     },
     "execution_count": 56,
     "metadata": {},
     "output_type": "execute_result"
    }
   ],
   "source": [
    "param_test2 = {'max_depth':list(range(3,9,2)), 'min_samples_split':list(range(50,201,20))}\n",
    "gsearch2 = GridSearchCV(estimator = GradientBoostingClassifier(learning_rate=0.1, n_estimators=n_estimators, min_samples_leaf=20, \n",
    "      max_features='sqrt', subsample=0.8, random_state=10), \n",
    "   param_grid = param_test2, scoring='roc_auc',iid=False, cv=5)\n",
    "gsearch2.fit(X,y)\n",
    "gsearch2.grid_scores_, gsearch2.best_params_, gsearch2.best_score_"
   ]
  },
  {
   "cell_type": "code",
   "execution_count": 23,
   "metadata": {
    "scrolled": true
   },
   "outputs": [
    {
     "data": {
      "text/plain": [
       "([mean: 0.77406, std: 0.04680, params: {'min_samples_leaf': 140, 'min_samples_split': 1400},\n",
       "  mean: 0.76972, std: 0.04591, params: {'min_samples_leaf': 140, 'min_samples_split': 1500},\n",
       "  mean: 0.76986, std: 0.05525, params: {'min_samples_leaf': 150, 'min_samples_split': 1400},\n",
       "  mean: 0.78831, std: 0.04916, params: {'min_samples_leaf': 150, 'min_samples_split': 1500},\n",
       "  mean: 0.78224, std: 0.05331, params: {'min_samples_leaf': 160, 'min_samples_split': 1400},\n",
       "  mean: 0.77226, std: 0.04056, params: {'min_samples_leaf': 160, 'min_samples_split': 1500},\n",
       "  mean: 0.77860, std: 0.04658, params: {'min_samples_leaf': 170, 'min_samples_split': 1400},\n",
       "  mean: 0.78099, std: 0.05406, params: {'min_samples_leaf': 170, 'min_samples_split': 1500}],\n",
       " {'min_samples_leaf': 150, 'min_samples_split': 1500},\n",
       " 0.7883117966393429)"
      ]
     },
     "execution_count": 23,
     "metadata": {},
     "output_type": "execute_result"
    }
   ],
   "source": [
    "param_test3 = {'min_samples_split':list(range(1400,1600,100)), 'min_samples_leaf':list(range(140,171,10))}\n",
    "gsearch3 = GridSearchCV(estimator = GradientBoostingClassifier(learning_rate=0.1, n_estimators=120,max_depth=9,\n",
    "                                     max_features='sqrt', subsample=0.8, random_state=10), \n",
    "                       param_grid = param_test3, scoring='roc_auc',iid=False, cv=5)\n",
    "gsearch3.fit(X,y)\n",
    "gsearch3.grid_scores_, gsearch3.best_params_, gsearch3.best_score_"
   ]
  },
  {
   "cell_type": "code",
   "execution_count": 24,
   "metadata": {},
   "outputs": [
    {
     "name": "stdout",
     "output_type": "stream",
     "text": [
      "Accuracy : 0.9933\n",
      "AUC Score (Train): 0.998991\n"
     ]
    }
   ],
   "source": [
    "gbm1 = GradientBoostingClassifier(learning_rate=0.1, n_estimators=120,max_depth=9, min_samples_leaf =150, \n",
    "               min_samples_split =1500, max_features='sqrt', subsample=0.8, random_state=10)\n",
    "gbm1.fit(X,y)\n",
    "y_pred = gbm1.predict(X)\n",
    "y_predprob = gbm1.predict_proba(X)[:,1]\n",
    "print( \"Accuracy : %.4g\" % metrics.accuracy_score(y.values, y_pred))\n",
    "print (\"AUC Score (Train): %f\" % metrics.roc_auc_score(y, y_predprob))"
   ]
  },
  {
   "cell_type": "code",
   "execution_count": 25,
   "metadata": {},
   "outputs": [
    {
     "data": {
      "text/plain": [
       "([mean: 0.75640, std: 0.05208, params: {'max_features': 7},\n",
       "  mean: 0.76820, std: 0.05650, params: {'max_features': 9},\n",
       "  mean: 0.77248, std: 0.05077, params: {'max_features': 11},\n",
       "  mean: 0.78831, std: 0.04916, params: {'max_features': 13},\n",
       "  mean: 0.77366, std: 0.05624, params: {'max_features': 15},\n",
       "  mean: 0.77685, std: 0.06260, params: {'max_features': 17},\n",
       "  mean: 0.76468, std: 0.05720, params: {'max_features': 19}],\n",
       " {'max_features': 13},\n",
       " 0.7883117966393429)"
      ]
     },
     "execution_count": 25,
     "metadata": {},
     "output_type": "execute_result"
    }
   ],
   "source": [
    "param_test4 = {'max_features':list(range(7,20,2))}\n",
    "gsearch4 = GridSearchCV(estimator = GradientBoostingClassifier(learning_rate=0.1, n_estimators=120,max_depth=9, min_samples_leaf =150, \n",
    "               min_samples_split =1500, subsample=0.8, random_state=10), \n",
    "                       param_grid = param_test4, scoring='roc_auc',iid=False, cv=5)\n",
    "gsearch4.fit(X,y)\n",
    "gsearch4.grid_scores_, gsearch4.best_params_, gsearch4.best_score_"
   ]
  },
  {
   "cell_type": "code",
   "execution_count": null,
   "metadata": {
    "collapsed": true
   },
   "outputs": [],
   "source": [
    "param_test5 = {'subsample':[0.6,0.7,0.75,0.8,0.85,0.9]}\n",
    "gsearch5 = GridSearchCV(estimator = GradientBoostingClassifier(learning_rate=0.1, n_estimators=60,max_depth=3, min_samples_leaf =60, \n",
    "               min_samples_split =1400, max_features=11, random_state=10), \n",
    "                       param_grid = param_test5, scoring='roc_auc',iid=False, cv=5)\n",
    "gsearch5.fit(X,y)\n",
    "gsearch5.grid_scores_, gsearch5.best_params_, gsearch5.best_score_"
   ]
  },
  {
   "cell_type": "code",
   "execution_count": 27,
   "metadata": {},
   "outputs": [
    {
     "name": "stdout",
     "output_type": "stream",
     "text": [
      "Accuracy : 0.9931\n",
      "AUC Score (Train): 0.999171\n"
     ]
    }
   ],
   "source": [
    "gbm2 = GradientBoostingClassifier(learning_rate=0.05, n_estimators=240,max_depth=9, min_samples_leaf =150, \n",
    "               min_samples_split =1500, max_features='sqrt', subsample=0.8, random_state=10)\n",
    "gbm2.fit(X,y)\n",
    "y_pred = gbm2.predict(X)\n",
    "y_predprob = gbm2.predict_proba(X)[:,1]\n",
    "print( \"Accuracy : %.4g\" % metrics.accuracy_score(y.values, y_pred))\n",
    "print (\"AUC Score (Train): %f\" % metrics.roc_auc_score(y, y_predprob))"
   ]
  },
  {
   "cell_type": "code",
   "execution_count": 29,
   "metadata": {},
   "outputs": [
    {
     "name": "stdout",
     "output_type": "stream",
     "text": [
      "Accuracy : 0.9933\n",
      "AUC Score (Train): 0.998991\n"
     ]
    }
   ],
   "source": [
    "gbm2 = GradientBoostingClassifier(learning_rate=0.1, n_estimators=120,max_depth=9, min_samples_leaf =150, \n",
    "               min_samples_split =1500, max_features='sqrt', subsample=0.8, random_state=10)\n",
    "gbm2.fit(X,y)\n",
    "y_pred = gbm2.predict(X)\n",
    "y_predprob = gbm2.predict_proba(X)[:,1]\n",
    "print( \"Accuracy : %.4g\" % metrics.accuracy_score(y.values, y_pred))\n",
    "print (\"AUC Score (Train): %f\" % metrics.roc_auc_score(y, y_predprob))"
   ]
  },
  {
   "cell_type": "code",
   "execution_count": 30,
   "metadata": {
    "collapsed": true
   },
   "outputs": [],
   "source": [
    "import sklearn"
   ]
  },
  {
   "cell_type": "code",
   "execution_count": null,
   "metadata": {
    "collapsed": true
   },
   "outputs": [],
   "source": [
    "sklearn.ensemble.GradientBoostingClassifier."
   ]
  }
 ],
 "metadata": {
  "kernelspec": {
   "display_name": "Python 3",
   "language": "python",
   "name": "python3"
  },
  "language_info": {
   "codemirror_mode": {
    "name": "ipython",
    "version": 3
   },
   "file_extension": ".py",
   "mimetype": "text/x-python",
   "name": "python",
   "nbconvert_exporter": "python",
   "pygments_lexer": "ipython3",
   "version": "3.6.1"
  }
 },
 "nbformat": 4,
 "nbformat_minor": 2
}
