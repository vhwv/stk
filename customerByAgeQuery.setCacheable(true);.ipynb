#%%
import pandas as pd
import numpy as np
from sklearn.ensemble import GradientBoostingClassifier
from sklearn import cross_validation, metrics    
from sklearn.grid_search import GridSearchCV

import matplotlib.pylab as plt
%matplotlib inline
#%%
trainf='/Users/wyatt/Documents/Docs-wMBP15/SAS/stk_model/model.Wyatt_stock_train.csv'
#valid='/Users/wyatt/Documents/Docs-wMBP15/SAS/stk_model/model.Wyatt_stock_valid.csv'
train=pd.read_csv(trainf).fillna(0)
target='response' # Disbursed的值就是二元分类的输出
IDcol = 'cust_id'
train['response'].value_counts() 
#%%
x_columns = [x for x in train.columns if x not in [target, IDcol]]
X = train[x_columns]
y = train[target]
#%%
gbm0 = GradientBoostingClassifier(random_state=10)
gbm0.fit(X,y)
y_pred = gbm0.predict(X)
y_predprob = gbm0.predict_proba(X)[:,1]
print("Accuracy : %.4g" % metrics.accuracy_score(y.values, y_pred))
print("AUC Score (Train): %f" % metrics.roc_auc_score(y, y_predprob))
#%%
param_test1 = {'n_estimators':list(range(80,121,10))}
gsearch1 = GridSearchCV(estimator = GradientBoostingClassifier(learning_rate=0.01, min_samples_split=300,
                                  min_samples_leaf=20,max_depth=8,max_features='sqrt', subsample=0.8,random_state=10), 
                       param_grid = param_test1, scoring='roc_auc',iid=False,cv=5)
gsearch1.fit(X,y)
gsearch1.grid_scores_, gsearch1.best_params_, gsearch1.best_score_
#%%
n_estimators = gsearch1.best_params_['n_estimators']
#%%
param_test2 = {'max_depth':list(range(3,9,2)), 'min_samples_split':list(range(50,201,20))}
gsearch2 = GridSearchCV(estimator = GradientBoostingClassifier(learning_rate=0.1, n_estimators=n_estimators, min_samples_leaf=20, 
      max_features='sqrt', subsample=0.8, random_state=10), 
   param_grid = param_test2, scoring='roc_auc',iid=False, cv=5)
gsearch2.fit(X,y)
gsearch2.grid_scores_, gsearch2.best_params_, gsearch2.best_score_
#%%
param_test3 = {'min_samples_split':list(range(1400,1600,100)), 'min_samples_leaf':list(range(140,171,10))}
gsearch3 = GridSearchCV(estimator = GradientBoostingClassifier(learning_rate=0.1, n_estimators=120,max_depth=9,
                                     max_features='sqrt', subsample=0.8, random_state=10), 
                       param_grid = param_test3, scoring='roc_auc',iid=False, cv=5)
gsearch3.fit(X,y)
gsearch3.grid_scores_, gsearch3.best_params_, gsearch3.best_score_
#%%
gbm1 = GradientBoostingClassifier(learning_rate=0.1, n_estimators=120,max_depth=9, min_samples_leaf =150, 
               min_samples_split =1500, max_features='sqrt', subsample=0.8, random_state=10)
gbm1.fit(X,y)
y_pred = gbm1.predict(X)
y_predprob = gbm1.predict_proba(X)[:,1]
print( "Accuracy : %.4g" % metrics.accuracy_score(y.values, y_pred))
print ("AUC Score (Train): %f" % metrics.roc_auc_score(y, y_predprob))
#%%
param_test4 = {'max_features':list(range(7,20,2))}
gsearch4 = GridSearchCV(estimator = GradientBoostingClassifier(learning_rate=0.1, n_estimators=120,max_depth=9, min_samples_leaf =150, 
               min_samples_split =1500, subsample=0.8, random_state=10), 
                       param_grid = param_test4, scoring='roc_auc',iid=False, cv=5)
gsearch4.fit(X,y)
gsearch4.grid_scores_, gsearch4.best_params_, gsearch4.best_score_
#%%
param_test5 = {'subsample':[0.6,0.7,0.75,0.8,0.85,0.9]}
gsearch5 = GridSearchCV(estimator = GradientBoostingClassifier(learning_rate=0.1, n_estimators=60,max_depth=3, min_samples_leaf =60, 
               min_samples_split =1400, max_features=11, random_state=10), 
                       param_grid = param_test5, scoring='roc_auc',iid=False, cv=5)
gsearch5.fit(X,y)
gsearch5.grid_scores_, gsearch5.best_params_, gsearch5.best_score_
#%%
gbm2 = GradientBoostingClassifier(learning_rate=0.05, n_estimators=240,max_depth=9, min_samples_leaf =150, 
               min_samples_split =1500, max_features='sqrt', subsample=0.8, random_state=10)
gbm2.fit(X,y)
y_pred = gbm2.predict(X)
y_predprob = gbm2.predict_proba(X)[:,1]
print( "Accuracy : %.4g" % metrics.accuracy_score(y.values, y_pred))
print ("AUC Score (Train): %f" % metrics.roc_auc_score(y, y_predprob))
#%%
gbm2 = GradientBoostingClassifier(learning_rate=0.1, n_estimators=120,max_depth=9, min_samples_leaf =150, 
               min_samples_split =1500, max_features='sqrt', subsample=0.8, random_state=10)
gbm2.fit(X,y)
y_pred = gbm2.predict(X)
y_predprob = gbm2.predict_proba(X)[:,1]
print( "Accuracy : %.4g" % metrics.accuracy_score(y.values, y_pred))
print ("AUC Score (Train): %f" % metrics.roc_auc_score(y, y_predprob))
#%%
import sklearn
#%%
sklearn.ensemble.GradientBoostingClassifier.